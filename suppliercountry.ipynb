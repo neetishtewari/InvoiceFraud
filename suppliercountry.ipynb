{
 "cells": [
  {
   "cell_type": "markdown",
   "metadata": {},
   "source": [
    "# Predicting the supplier country from invoice data "
   ]
  },
  {
   "cell_type": "code",
   "execution_count": 1,
   "metadata": {},
   "outputs": [
    {
     "data": {
      "text/html": [
       "<div>\n",
       "<style scoped>\n",
       "    .dataframe tbody tr th:only-of-type {\n",
       "        vertical-align: middle;\n",
       "    }\n",
       "\n",
       "    .dataframe tbody tr th {\n",
       "        vertical-align: top;\n",
       "    }\n",
       "\n",
       "    .dataframe thead th {\n",
       "        text-align: right;\n",
       "    }\n",
       "</style>\n",
       "<table border=\"1\" class=\"dataframe\">\n",
       "  <thead>\n",
       "    <tr style=\"text-align: right;\">\n",
       "      <th></th>\n",
       "      <th>SupplierName</th>\n",
       "      <th>SupplierAddress</th>\n",
       "      <th>SupplierPhone</th>\n",
       "      <th>SupplierEmail</th>\n",
       "      <th>AccountNumber</th>\n",
       "      <th>BankName</th>\n",
       "      <th>SortCode</th>\n",
       "      <th>SwiftCode</th>\n",
       "      <th>IBAN</th>\n",
       "      <th>Currency</th>\n",
       "      <th>Status</th>\n",
       "      <th>Zone</th>\n",
       "      <th>SupplierAddress1</th>\n",
       "      <th>SupplierCity</th>\n",
       "      <th>SupplierPostalCode</th>\n",
       "      <th>SupplierGSTNumber</th>\n",
       "      <th>BSBCode</th>\n",
       "      <th>SupplierCountry</th>\n",
       "    </tr>\n",
       "  </thead>\n",
       "  <tbody>\n",
       "    <tr>\n",
       "      <th>0</th>\n",
       "      <td>RK</td>\n",
       "      <td>18 Sin Ming Lane #01-08 Midview City</td>\n",
       "      <td>NaN</td>\n",
       "      <td>NaN</td>\n",
       "      <td>NaN</td>\n",
       "      <td>NaN</td>\n",
       "      <td>NaN</td>\n",
       "      <td>NaN</td>\n",
       "      <td>NaN</td>\n",
       "      <td>SGD</td>\n",
       "      <td>1</td>\n",
       "      <td>NaN</td>\n",
       "      <td>NaN</td>\n",
       "      <td>Singapore</td>\n",
       "      <td>573960</td>\n",
       "      <td>201617200G</td>\n",
       "      <td>NaN</td>\n",
       "      <td>Singapore</td>\n",
       "    </tr>\n",
       "    <tr>\n",
       "      <th>1</th>\n",
       "      <td>Kai Guderjahn</td>\n",
       "      <td>34 Midelton Avenue North Bondi Sydney</td>\n",
       "      <td>NaN</td>\n",
       "      <td>kai.guderjahn@gmail.com.au</td>\n",
       "      <td>10094529</td>\n",
       "      <td>Commonwealth Bank</td>\n",
       "      <td>NaN</td>\n",
       "      <td>CTBAAU2S</td>\n",
       "      <td>NaN</td>\n",
       "      <td>AUD</td>\n",
       "      <td>2</td>\n",
       "      <td>NaN</td>\n",
       "      <td>NaN</td>\n",
       "      <td>NSW</td>\n",
       "      <td>2026</td>\n",
       "      <td>NaN</td>\n",
       "      <td>063-097</td>\n",
       "      <td>Australia</td>\n",
       "    </tr>\n",
       "    <tr>\n",
       "      <th>2</th>\n",
       "      <td>PSN Events Pty Ltd</td>\n",
       "      <td>PO BOX 647 POTTS POINT</td>\n",
       "      <td>NaN</td>\n",
       "      <td>NaN</td>\n",
       "      <td>16708085</td>\n",
       "      <td>NaN</td>\n",
       "      <td>NaN</td>\n",
       "      <td>NaN</td>\n",
       "      <td>NaN</td>\n",
       "      <td>AUD</td>\n",
       "      <td>2</td>\n",
       "      <td>NaN</td>\n",
       "      <td>NaN</td>\n",
       "      <td>NSW</td>\n",
       "      <td>1335</td>\n",
       "      <td>NaN</td>\n",
       "      <td>062-000</td>\n",
       "      <td>Australia</td>\n",
       "    </tr>\n",
       "    <tr>\n",
       "      <th>3</th>\n",
       "      <td>Apple Pty Ltd</td>\n",
       "      <td>PO Box A2629 Sydney South</td>\n",
       "      <td>NaN</td>\n",
       "      <td>NaN</td>\n",
       "      <td>2510054</td>\n",
       "      <td>NaN</td>\n",
       "      <td>NaN</td>\n",
       "      <td>NaN</td>\n",
       "      <td>NaN</td>\n",
       "      <td>AUD</td>\n",
       "      <td>2</td>\n",
       "      <td>NaN</td>\n",
       "      <td>NaN</td>\n",
       "      <td>NSW</td>\n",
       "      <td>1235</td>\n",
       "      <td>NaN</td>\n",
       "      <td>NaN</td>\n",
       "      <td>Australia</td>\n",
       "    </tr>\n",
       "    <tr>\n",
       "      <th>4</th>\n",
       "      <td>BAN HOCK FOOD PTE LTD</td>\n",
       "      <td>34 Woodlands Terrace Woodlands East industrial...</td>\n",
       "      <td>NaN</td>\n",
       "      <td>enguiries@bannock.ccm.sg</td>\n",
       "      <td>NaN</td>\n",
       "      <td>NaN</td>\n",
       "      <td>NaN</td>\n",
       "      <td>NaN</td>\n",
       "      <td>NaN</td>\n",
       "      <td>SGD</td>\n",
       "      <td>1</td>\n",
       "      <td>NaN</td>\n",
       "      <td>NaN</td>\n",
       "      <td>Singapore</td>\n",
       "      <td>739453</td>\n",
       "      <td>M2-0064933-8</td>\n",
       "      <td>NaN</td>\n",
       "      <td>Singapore</td>\n",
       "    </tr>\n",
       "    <tr>\n",
       "      <th>...</th>\n",
       "      <td>...</td>\n",
       "      <td>...</td>\n",
       "      <td>...</td>\n",
       "      <td>...</td>\n",
       "      <td>...</td>\n",
       "      <td>...</td>\n",
       "      <td>...</td>\n",
       "      <td>...</td>\n",
       "      <td>...</td>\n",
       "      <td>...</td>\n",
       "      <td>...</td>\n",
       "      <td>...</td>\n",
       "      <td>...</td>\n",
       "      <td>...</td>\n",
       "      <td>...</td>\n",
       "      <td>...</td>\n",
       "      <td>...</td>\n",
       "      <td>...</td>\n",
       "    </tr>\n",
       "    <tr>\n",
       "      <th>192</th>\n",
       "      <td>ADirect Singapore Pte. Ltd.</td>\n",
       "      <td>NaN</td>\n",
       "      <td>12345676</td>\n",
       "      <td>Adirect.renepay@gmail.com</td>\n",
       "      <td>NaN</td>\n",
       "      <td>NaN</td>\n",
       "      <td>NaN</td>\n",
       "      <td>NaN</td>\n",
       "      <td>NaN</td>\n",
       "      <td>SGD</td>\n",
       "      <td>2</td>\n",
       "      <td>NaN</td>\n",
       "      <td>No 2-15, Food Xchange Singapore ,Singapore - 7...</td>\n",
       "      <td>NaN</td>\n",
       "      <td>NaN</td>\n",
       "      <td>NaN</td>\n",
       "      <td>NaN</td>\n",
       "      <td>Singapore</td>\n",
       "    </tr>\n",
       "    <tr>\n",
       "      <th>193</th>\n",
       "      <td>ADirect Singapore Pte. Ltd.</td>\n",
       "      <td>NaN</td>\n",
       "      <td>12345676</td>\n",
       "      <td>Adirect.renepay@gmail.com</td>\n",
       "      <td>NaN</td>\n",
       "      <td>NaN</td>\n",
       "      <td>NaN</td>\n",
       "      <td>NaN</td>\n",
       "      <td>NaN</td>\n",
       "      <td>SGD</td>\n",
       "      <td>2</td>\n",
       "      <td>NaN</td>\n",
       "      <td>8A Admiralty Street No 2-15, Food Xchange Sing...</td>\n",
       "      <td>NaN</td>\n",
       "      <td>NaN</td>\n",
       "      <td>NaN</td>\n",
       "      <td>NaN</td>\n",
       "      <td>Singapore</td>\n",
       "    </tr>\n",
       "    <tr>\n",
       "      <th>194</th>\n",
       "      <td>ADirect Singapore Pte. Ltd.</td>\n",
       "      <td>NaN</td>\n",
       "      <td>12345676</td>\n",
       "      <td>Adirect.renepay@gmail.com</td>\n",
       "      <td>NaN</td>\n",
       "      <td>NaN</td>\n",
       "      <td>NaN</td>\n",
       "      <td>NaN</td>\n",
       "      <td>NaN</td>\n",
       "      <td>SGD</td>\n",
       "      <td>2</td>\n",
       "      <td>NaN</td>\n",
       "      <td>8A Admiralty Street No 2-15, Food Xchange Sing...</td>\n",
       "      <td>NaN</td>\n",
       "      <td>NaN</td>\n",
       "      <td>NaN</td>\n",
       "      <td>NaN</td>\n",
       "      <td>Singapore</td>\n",
       "    </tr>\n",
       "    <tr>\n",
       "      <th>195</th>\n",
       "      <td>ADirect Singapore Pte. Ltd.</td>\n",
       "      <td>NaN</td>\n",
       "      <td>12345676</td>\n",
       "      <td>Adirect.renepay@gmail.com</td>\n",
       "      <td>NaN</td>\n",
       "      <td>NaN</td>\n",
       "      <td>NaN</td>\n",
       "      <td>NaN</td>\n",
       "      <td>NaN</td>\n",
       "      <td>SGD</td>\n",
       "      <td>2</td>\n",
       "      <td>NaN</td>\n",
       "      <td>8A Admiralty Street No 2-15, Food Xchange Sing...</td>\n",
       "      <td>NaN</td>\n",
       "      <td>NaN</td>\n",
       "      <td>NaN</td>\n",
       "      <td>NaN</td>\n",
       "      <td>Singapore</td>\n",
       "    </tr>\n",
       "    <tr>\n",
       "      <th>196</th>\n",
       "      <td>ADirect Singapore Pte. Ltd.</td>\n",
       "      <td>NaN</td>\n",
       "      <td>12345676</td>\n",
       "      <td>Adirect.renepay@gmail.com</td>\n",
       "      <td>NaN</td>\n",
       "      <td>NaN</td>\n",
       "      <td>NaN</td>\n",
       "      <td>NaN</td>\n",
       "      <td>NaN</td>\n",
       "      <td>SGD</td>\n",
       "      <td>2</td>\n",
       "      <td>NaN</td>\n",
       "      <td>No 2-15, Food Xchange Singapore ,Singapore - 7...</td>\n",
       "      <td>NaN</td>\n",
       "      <td>NaN</td>\n",
       "      <td>NaN</td>\n",
       "      <td>NaN</td>\n",
       "      <td>Singapore</td>\n",
       "    </tr>\n",
       "  </tbody>\n",
       "</table>\n",
       "<p>197 rows × 18 columns</p>\n",
       "</div>"
      ],
      "text/plain": [
       "                    SupplierName  \\\n",
       "0                             RK   \n",
       "1                  Kai Guderjahn   \n",
       "2             PSN Events Pty Ltd   \n",
       "3                  Apple Pty Ltd   \n",
       "4          BAN HOCK FOOD PTE LTD   \n",
       "..                           ...   \n",
       "192  ADirect Singapore Pte. Ltd.   \n",
       "193  ADirect Singapore Pte. Ltd.   \n",
       "194  ADirect Singapore Pte. Ltd.   \n",
       "195  ADirect Singapore Pte. Ltd.   \n",
       "196  ADirect Singapore Pte. Ltd.   \n",
       "\n",
       "                                       SupplierAddress SupplierPhone  \\\n",
       "0                 18 Sin Ming Lane #01-08 Midview City           NaN   \n",
       "1                34 Midelton Avenue North Bondi Sydney           NaN   \n",
       "2                               PO BOX 647 POTTS POINT           NaN   \n",
       "3                            PO Box A2629 Sydney South           NaN   \n",
       "4    34 Woodlands Terrace Woodlands East industrial...           NaN   \n",
       "..                                                 ...           ...   \n",
       "192                                                NaN      12345676   \n",
       "193                                                NaN      12345676   \n",
       "194                                                NaN      12345676   \n",
       "195                                                NaN      12345676   \n",
       "196                                                NaN      12345676   \n",
       "\n",
       "                  SupplierEmail AccountNumber           BankName SortCode  \\\n",
       "0                           NaN           NaN                NaN      NaN   \n",
       "1    kai.guderjahn@gmail.com.au      10094529  Commonwealth Bank      NaN   \n",
       "2                           NaN      16708085                NaN      NaN   \n",
       "3                           NaN       2510054                NaN      NaN   \n",
       "4      enguiries@bannock.ccm.sg           NaN                NaN      NaN   \n",
       "..                          ...           ...                ...      ...   \n",
       "192   Adirect.renepay@gmail.com           NaN                NaN      NaN   \n",
       "193   Adirect.renepay@gmail.com           NaN                NaN      NaN   \n",
       "194   Adirect.renepay@gmail.com           NaN                NaN      NaN   \n",
       "195   Adirect.renepay@gmail.com           NaN                NaN      NaN   \n",
       "196   Adirect.renepay@gmail.com           NaN                NaN      NaN   \n",
       "\n",
       "    SwiftCode IBAN Currency  Status  Zone  \\\n",
       "0         NaN  NaN      SGD       1   NaN   \n",
       "1    CTBAAU2S  NaN      AUD       2   NaN   \n",
       "2         NaN  NaN      AUD       2   NaN   \n",
       "3         NaN  NaN      AUD       2   NaN   \n",
       "4         NaN  NaN      SGD       1   NaN   \n",
       "..        ...  ...      ...     ...   ...   \n",
       "192       NaN  NaN      SGD       2   NaN   \n",
       "193       NaN  NaN      SGD       2   NaN   \n",
       "194       NaN  NaN      SGD       2   NaN   \n",
       "195       NaN  NaN      SGD       2   NaN   \n",
       "196       NaN  NaN      SGD       2   NaN   \n",
       "\n",
       "                                      SupplierAddress1 SupplierCity  \\\n",
       "0                                                  NaN    Singapore   \n",
       "1                                                  NaN          NSW   \n",
       "2                                                  NaN          NSW   \n",
       "3                                                  NaN          NSW   \n",
       "4                                                  NaN    Singapore   \n",
       "..                                                 ...          ...   \n",
       "192  No 2-15, Food Xchange Singapore ,Singapore - 7...          NaN   \n",
       "193  8A Admiralty Street No 2-15, Food Xchange Sing...          NaN   \n",
       "194  8A Admiralty Street No 2-15, Food Xchange Sing...          NaN   \n",
       "195  8A Admiralty Street No 2-15, Food Xchange Sing...          NaN   \n",
       "196  No 2-15, Food Xchange Singapore ,Singapore - 7...          NaN   \n",
       "\n",
       "    SupplierPostalCode SupplierGSTNumber  BSBCode SupplierCountry  \n",
       "0               573960        201617200G      NaN       Singapore  \n",
       "1                 2026               NaN  063-097       Australia  \n",
       "2                 1335               NaN  062-000       Australia  \n",
       "3                 1235               NaN      NaN       Australia  \n",
       "4               739453      M2-0064933-8      NaN       Singapore  \n",
       "..                 ...               ...      ...             ...  \n",
       "192                NaN               NaN      NaN       Singapore  \n",
       "193                NaN               NaN      NaN       Singapore  \n",
       "194                NaN               NaN      NaN       Singapore  \n",
       "195                NaN               NaN      NaN       Singapore  \n",
       "196                NaN               NaN      NaN       Singapore  \n",
       "\n",
       "[197 rows x 18 columns]"
      ]
     },
     "execution_count": 1,
     "metadata": {},
     "output_type": "execute_result"
    }
   ],
   "source": [
    "#import dataset with invoice and country \n",
    "import pandas as pd\n",
    "import numpy as np\n",
    "\n",
    "supcountry = pd.read_csv(\"data/invoice_country.csv\",encoding='unicode_escape')\n",
    "supcountry"
   ]
  },
  {
   "cell_type": "code",
   "execution_count": 2,
   "metadata": {},
   "outputs": [
    {
     "data": {
      "text/plain": [
       "SupplierName            2\n",
       "SupplierAddress        72\n",
       "SupplierPhone         129\n",
       "SupplierEmail          62\n",
       "AccountNumber          44\n",
       "BankName               94\n",
       "SortCode              131\n",
       "SwiftCode             133\n",
       "IBAN                  156\n",
       "Currency                0\n",
       "Status                  0\n",
       "Zone                  197\n",
       "SupplierAddress1      159\n",
       "SupplierCity            9\n",
       "SupplierPostalCode     40\n",
       "SupplierGSTNumber     159\n",
       "BSBCode               169\n",
       "SupplierCountry         2\n",
       "dtype: int64"
      ]
     },
     "execution_count": 2,
     "metadata": {},
     "output_type": "execute_result"
    }
   ],
   "source": [
    "#find out the total no. of null values \n",
    "supcountry.isna().sum()"
   ]
  },
  {
   "cell_type": "code",
   "execution_count": 3,
   "metadata": {},
   "outputs": [
    {
     "data": {
      "text/plain": [
       "SupplierName            0\n",
       "SupplierAddress        70\n",
       "SupplierPhone         127\n",
       "SupplierEmail          60\n",
       "AccountNumber          42\n",
       "BankName               92\n",
       "SortCode              129\n",
       "SwiftCode             131\n",
       "IBAN                  154\n",
       "Currency                0\n",
       "Status                  0\n",
       "Zone                  195\n",
       "SupplierAddress1      157\n",
       "SupplierCity            7\n",
       "SupplierPostalCode     38\n",
       "SupplierGSTNumber     157\n",
       "BSBCode               167\n",
       "SupplierCountry         0\n",
       "dtype: int64"
      ]
     },
     "execution_count": 3,
     "metadata": {},
     "output_type": "execute_result"
    }
   ],
   "source": [
    "#drop missing vaues from the label (supplierCountry)\n",
    "supcountry.dropna(subset=[\"SupplierCountry\"],inplace=True)\n",
    "supcountry.isna().sum()"
   ]
  },
  {
   "cell_type": "code",
   "execution_count": 4,
   "metadata": {},
   "outputs": [],
   "source": [
    "#Split data into features and label \n",
    "x=supcountry.drop(\"SupplierCountry\", axis=1)\n",
    "y=supcountry[\"SupplierCountry\"]"
   ]
  },
  {
   "cell_type": "code",
   "execution_count": 5,
   "metadata": {},
   "outputs": [
    {
     "data": {
      "text/plain": [
       "array([['RK', '18 Sin Ming Lane #01-08 Midview City', 'missing', ...,\n",
       "        '573960', '201617200G', 'missing'],\n",
       "       ['Kai Guderjahn', '34 Midelton Avenue North Bondi Sydney',\n",
       "        'missing', ..., '2026', 'missing', '063-097'],\n",
       "       ['PSN Events Pty Ltd', 'PO BOX 647 POTTS POINT', 'missing', ...,\n",
       "        '1335', 'missing', '062-000'],\n",
       "       ...,\n",
       "       ['ADirect Singapore Pte. Ltd.', 'missing', '12345676', ...,\n",
       "        'missing', 'missing', 'missing'],\n",
       "       ['ADirect Singapore Pte. Ltd.', 'missing', '12345676', ...,\n",
       "        'missing', 'missing', 'missing'],\n",
       "       ['ADirect Singapore Pte. Ltd.', 'missing', '12345676', ...,\n",
       "        'missing', 'missing', 'missing']], dtype=object)"
      ]
     },
     "execution_count": 5,
     "metadata": {},
     "output_type": "execute_result"
    }
   ],
   "source": [
    "#Filling missing values with skikit learn \n",
    "\n",
    "from sklearn.impute import SimpleImputer\n",
    "from sklearn.compose import ColumnTransformer\n",
    "\n",
    "#fill missing values with \" missing\"\n",
    "cat_imputer = SimpleImputer(strategy=\"constant\",fill_value=\"missing\")\n",
    "\n",
    "#define columns \n",
    "cat_features=[\"SupplierName\",\"SupplierAddress\",\"SupplierPhone\",\"SupplierEmail\",\"AccountNumber\",\"BankName\",\"SortCode\",\"SwiftCode\",\"IBAN\",\"Currency\",\"Status\",\"Zone\",\"SupplierAddress1\",\"SupplierCity\",\"SupplierPostalCode\",\"SupplierGSTNumber\",\"BSBCode\"]\n",
    "\n",
    "\n",
    "#create an imputer\n",
    "#Create an imputer ( something that fills missing data )\n",
    "imputer = ColumnTransformer([\n",
    "                            (\"cat_imputer\",cat_imputer,cat_features)\n",
    "])\n",
    "\n",
    "# transform the data \n",
    "filled_x= imputer.fit_transform(x)\n",
    "filled_x"
   ]
  },
  {
   "cell_type": "code",
   "execution_count": null,
   "metadata": {
    "scrolled": true
   },
   "outputs": [],
   "source": []
  },
  {
   "cell_type": "code",
   "execution_count": null,
   "metadata": {},
   "outputs": [],
   "source": []
  },
  {
   "cell_type": "code",
   "execution_count": 6,
   "metadata": {},
   "outputs": [
    {
     "data": {
      "text/plain": [
       "SupplierName          0\n",
       "SupplierAddress       0\n",
       "SupplierPhone         0\n",
       "SupplierEmail         0\n",
       "AccountNumber         0\n",
       "BankName              0\n",
       "SortCode              0\n",
       "SwiftCode             0\n",
       "IBAN                  0\n",
       "Currency              0\n",
       "Status                0\n",
       "Zone                  0\n",
       "SupplierAddress1      0\n",
       "SupplierCity          0\n",
       "SupplierPostalCode    0\n",
       "SupplierGSTNumber     0\n",
       "BSBCode               0\n",
       "dtype: int64"
      ]
     },
     "execution_count": 6,
     "metadata": {},
     "output_type": "execute_result"
    }
   ],
   "source": [
    "sup_filled = pd.DataFrame(filled_x,columns=[\"SupplierName\",\"SupplierAddress\",\"SupplierPhone\",\"SupplierEmail\",\"AccountNumber\",\"BankName\",\"SortCode\",\"SwiftCode\",\"IBAN\",\"Currency\",\"Status\",\"Zone\",\"SupplierAddress1\",\"SupplierCity\",\"SupplierPostalCode\",\"SupplierGSTNumber\",\"BSBCode\"])\n",
    "sup_filled.isna().sum()"
   ]
  },
  {
   "cell_type": "code",
   "execution_count": 7,
   "metadata": {},
   "outputs": [
    {
     "data": {
      "text/plain": [
       "<195x441 sparse matrix of type '<class 'numpy.float64'>'\n",
       "\twith 3315 stored elements in Compressed Sparse Row format>"
      ]
     },
     "execution_count": 7,
     "metadata": {},
     "output_type": "execute_result"
    }
   ],
   "source": [
    "#turn the categories into numbers\n",
    "from sklearn.preprocessing import OneHotEncoder\n",
    "from sklearn.compose import ColumnTransformer\n",
    "from sklearn.ensemble import RandomForestRegressor\n",
    "\n",
    "categorical_features =[\"SupplierName\",\"SupplierAddress\",\"SupplierPhone\",\"SupplierEmail\",\"AccountNumber\",\"BankName\",\"SortCode\",\"SwiftCode\",\"IBAN\",\"Currency\",\"Status\",\"Zone\",\"SupplierAddress1\",\"SupplierCity\",\"SupplierPostalCode\",\"SupplierGSTNumber\",\"BSBCode\"]\n",
    "\n",
    "one_hot= OneHotEncoder()\n",
    "transformer = ColumnTransformer([(\"one_hot\",one_hot,categorical_features)], remainder=\"passthrough\")\n",
    "\n",
    "transformed_x= transformer.fit_transform(sup_filled)\n",
    "transformed_x"
   ]
  },
  {
   "cell_type": "code",
   "execution_count": 8,
   "metadata": {},
   "outputs": [
    {
     "data": {
      "text/plain": [
       "array([4, 0, 0, 0, 4, 4, 4, 4, 0, 4, 4, 4, 4, 5, 4, 4, 4, 4, 4, 4, 4, 4,\n",
       "       4, 4, 4, 4, 5, 5, 5, 5, 5, 5, 4, 4, 5, 4, 0, 0, 0, 0, 0, 0, 0, 0,\n",
       "       0, 4, 0, 0, 0, 0, 0, 0, 0, 0, 0, 0, 5, 5, 5, 5, 0, 0, 0, 5, 5, 5,\n",
       "       5, 5, 5, 5, 5, 5, 5, 4, 4, 5, 5, 5, 5, 5, 4, 4, 5, 5, 5, 5, 5, 5,\n",
       "       5, 5, 5, 5, 5, 5, 5, 5, 5, 2, 5, 5, 5, 5, 5, 5, 5, 5, 5, 5, 5, 5,\n",
       "       5, 5, 5, 5, 5, 5, 5, 5, 4, 4, 4, 4, 4, 5, 5, 3, 3, 3, 3, 5, 5, 5,\n",
       "       4, 5, 5, 5, 1, 5, 5, 5, 5, 5, 6, 5, 6, 6, 5, 7, 5, 5, 1, 4, 4, 5,\n",
       "       5, 4, 5, 1, 5, 5, 5, 4, 5, 4, 5, 4, 4, 5, 5, 5, 4, 5, 4, 4, 4, 5,\n",
       "       1, 4, 1, 4, 4, 5, 4, 5, 4, 5, 4, 4, 4, 5, 4, 4, 4, 4, 4])"
      ]
     },
     "execution_count": 8,
     "metadata": {},
     "output_type": "execute_result"
    }
   ],
   "source": [
    "#turn y into number \n",
    "\n",
    "from sklearn.preprocessing import LabelEncoder\n",
    "le = LabelEncoder()\n",
    "\n",
    "label = le.fit_transform(supcountry[\"SupplierCountry\"])\n",
    "\n",
    "label\n",
    "\n"
   ]
  },
  {
   "cell_type": "code",
   "execution_count": 9,
   "metadata": {},
   "outputs": [
    {
     "data": {
      "text/plain": [
       "array(['Australia', 'India', 'Ireland', 'NL', 'Singapore', 'UK', 'USA',\n",
       "       'ZA'], dtype=object)"
      ]
     },
     "execution_count": 9,
     "metadata": {},
     "output_type": "execute_result"
    }
   ],
   "source": [
    "le.classes_"
   ]
  },
  {
   "cell_type": "markdown",
   "metadata": {
    "scrolled": true
   },
   "source": [
    "## instantiate random forest "
   ]
  },
  {
   "cell_type": "code",
   "execution_count": 10,
   "metadata": {},
   "outputs": [
    {
     "data": {
      "text/plain": [
       "array([1, 5, 5, 5, 4, 5, 4, 5, 4, 5, 4, 5, 4, 0, 4, 5, 4, 5, 4, 4, 5, 5,\n",
       "       5, 5, 4, 4, 5, 5, 4, 5, 0, 5, 4, 0, 0, 5, 4, 5, 5])"
      ]
     },
     "execution_count": 10,
     "metadata": {},
     "output_type": "execute_result"
    }
   ],
   "source": [
    "#split data into training and testing sets \n",
    "from sklearn.model_selection import train_test_split\n",
    "from sklearn.ensemble import RandomForestClassifier\n",
    "\n",
    "x_train, x_test, y_train, y_test = train_test_split(transformed_x, label, test_size=0.2)\n",
    "\n",
    "#initialize estimator\n",
    "clf = RandomForestClassifier(n_estimators=100)\n",
    "\n",
    "#fit into the model\n",
    "clf.fit(x_train,y_train)\n",
    "clf.predict(x_test)"
   ]
  },
  {
   "cell_type": "code",
   "execution_count": 11,
   "metadata": {},
   "outputs": [
    {
     "data": {
      "text/plain": [
       "array(['Australia', 'India', 'Ireland', 'NL', 'Singapore', 'UK', 'USA',\n",
       "       'ZA'], dtype=object)"
      ]
     },
     "execution_count": 11,
     "metadata": {},
     "output_type": "execute_result"
    }
   ],
   "source": [
    "le.classes_"
   ]
  },
  {
   "cell_type": "code",
   "execution_count": 12,
   "metadata": {},
   "outputs": [
    {
     "data": {
      "text/plain": [
       "0.9487179487179487"
      ]
     },
     "execution_count": 12,
     "metadata": {},
     "output_type": "execute_result"
    }
   ],
   "source": [
    "clf.score(x_test,y_test)"
   ]
  },
  {
   "cell_type": "code",
   "execution_count": null,
   "metadata": {},
   "outputs": [],
   "source": []
  }
 ],
 "metadata": {
  "kernelspec": {
   "display_name": "Python 3",
   "language": "python",
   "name": "python3"
  },
  "language_info": {
   "codemirror_mode": {
    "name": "ipython",
    "version": 3
   },
   "file_extension": ".py",
   "mimetype": "text/x-python",
   "name": "python",
   "nbconvert_exporter": "python",
   "pygments_lexer": "ipython3",
   "version": "3.7.4"
  }
 },
 "nbformat": 4,
 "nbformat_minor": 2
}
