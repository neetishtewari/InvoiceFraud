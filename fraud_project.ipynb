{
 "cells": [
  {
   "cell_type": "markdown",
   "metadata": {},
   "source": [
    "# Predicting invoice Fraud using Machine Learning "
   ]
  },
  {
   "cell_type": "markdown",
   "metadata": {},
   "source": [
    "In this problem we are tryig to predict the possibility of fraud in an invoice from a set of features \n",
    "\n",
    "Wer'e going to take the following appraoch\n",
    "\n",
    "1) Problem definition\n",
    "2) data\n",
    "3) evaluation\n",
    "4) Features\n",
    "5) Modelling\n",
    "6) Experimentation\n",
    "\n",
    "\n",
    "1. Problem Definition\n",
    "in a statement :\n",
    "\n",
    "Given data from an invoice can we predict possibility of fraud in that.\n",
    "\n",
    "2. Data\n",
    "The original data caame from different customers that we have signed up on our home grown system.\n",
    "\n",
    "3. Evaluation\n",
    "It needs to be very accurate, the PoC should reach 95% or higher accuracy\n",
    "\n",
    "4. Features\n",
    "Data dictionary \n"
   ]
  },
  {
   "cell_type": "code",
   "execution_count": 3,
   "metadata": {},
   "outputs": [],
   "source": [
    "## preparing our tools \n",
    "## We are going to use pandas, numpy, matplotlib for data analysis and manipulation \n",
    "#data analysis and manipulation \n",
    "\n",
    "import pandas as pd \n",
    "import numpy as np \n",
    "import matplotlib.pyplot as plt \n",
    "import seaborn as sns \n",
    "\n",
    "#Models from scikit learn \n",
    "from sklearn.linear_model import LogisticRegression \n",
    "from sklearn.neighbors import KNeighborsClassifier\n",
    "from sklearn.ensemble import RandomForestClassifier \n",
    "\n",
    "#Model Evaluation \n",
    "from sklearn. model_selection import train_test_split, cross_val_score\n",
    "from sklearn.model_selection import RandomizedSearchCV, GridSearchCV\n",
    "from sklearn.metrics import confusion_matrix, classification_report\n",
    "from sklearn.metrics import precision_score, recall_score, f1_score \n",
    "from sklearn.metrics import plot_roc_curve "
   ]
  },
  {
   "cell_type": "markdown",
   "metadata": {},
   "source": [
    "## Load data"
   ]
  },
  {
   "cell_type": "code",
   "execution_count": 9,
   "metadata": {},
   "outputs": [
    {
     "data": {
      "text/plain": [
       "(922, 23)"
      ]
     },
     "execution_count": 9,
     "metadata": {},
     "output_type": "execute_result"
    }
   ],
   "source": [
    "df = pd.read_csv(\"data\\InvoiceData.csv\",encoding='unicode_escape')\n",
    "df.shape"
   ]
  },
  {
   "cell_type": "markdown",
   "metadata": {},
   "source": [
    "#### So we see that our dataset has 922 rows and 23 columns "
   ]
  },
  {
   "cell_type": "markdown",
   "metadata": {},
   "source": [
    "### Data Exploration ( exploratory data analysis or EDA)\n",
    "The goal here is to find out more about the data and become a subject matter expert on the dataset\n",
    "\n",
    "* What questions are you trying to solve\n",
    "* what kind of data do you have and how do we trat different types\n",
    "* What's missing from the data and how do you deal with it\n",
    "* Where are the outliers and why should you care about them\n",
    "* How can you add, change or remove features to get more out of our data"
   ]
  },
  {
   "cell_type": "code",
   "execution_count": 11,
   "metadata": {},
   "outputs": [
    {
     "data": {
      "text/plain": [
       "2    624\n",
       "1    179\n",
       "7     83\n",
       "3     34\n",
       "4      2\n",
       "Name: Status, dtype: int64"
      ]
     },
     "execution_count": 11,
     "metadata": {},
     "output_type": "execute_result"
    }
   ],
   "source": [
    "# Lets find out how many of each class is there \n",
    "df[\"Status\"].value_counts()"
   ]
  },
  {
   "cell_type": "code",
   "execution_count": 12,
   "metadata": {},
   "outputs": [
    {
     "data": {
      "image/png": "[encoded data removed]",
      "text/plain": [
       "<Figure size 432x288 with 1 Axes>"
      ]
     },
     "metadata": {
      "needs_background": "light"
     },
     "output_type": "display_data"
    }
   ],
   "source": [
    "df[\"Status\"].value_counts().plot(kind=\"bar\");"
   ]
  },
  {
   "cell_type": "markdown",
   "metadata": {},
   "source": [
    "#### we notice that this is not a symmetrical dataset and is dominated by class 2, most fraud sets are not symmetrical "
   ]
  },
  {
   "cell_type": "code",
   "execution_count": 15,
   "metadata": {},
   "outputs": [
    {
     "data": {
      "text/plain": [
       "InvoiceNumber          15\n",
       "InvoiceDate             0\n",
       "InvoiceDueDate        499\n",
       "SupplierName           25\n",
       "SupplierAddress       623\n",
       "BuyerName             574\n",
       "AccountNumber         232\n",
       "BankName              374\n",
       "SortCode              647\n",
       "SwiftCode             745\n",
       "IBAN                  810\n",
       "NetTotal                0\n",
       "VATTotal                0\n",
       "DeliveryCharge          0\n",
       "TotalAmount             1\n",
       "Currency                2\n",
       "SupplierAddress1      405\n",
       "SupplierCity          126\n",
       "SupplierPostalCode    203\n",
       "GSTTotal                0\n",
       "TaxNumber             651\n",
       "TaxTotal                0\n",
       "Status                  0\n",
       "dtype: int64"
      ]
     },
     "execution_count": 15,
     "metadata": {},
     "output_type": "execute_result"
    }
   ],
   "source": [
    "# are there any missing values \n",
    "df.isna().sum()"
   ]
  },
  {
   "cell_type": "markdown",
   "metadata": {},
   "source": [
    "### Taking a closer look at the dataset "
   ]
  },
  {
   "cell_type": "code",
   "execution_count": 16,
   "metadata": {},
   "outputs": [
    {
     "name": "stdout",
     "output_type": "stream",
     "text": [
      "<class 'pandas.core.frame.DataFrame'>\n",
      "RangeIndex: 922 entries, 0 to 921\n",
      "Data columns (total 23 columns):\n",
      " #   Column              Non-Null Count  Dtype  \n",
      "---  ------              --------------  -----  \n",
      " 0   InvoiceNumber       907 non-null    object \n",
      " 1   InvoiceDate         922 non-null    object \n",
      " 2   InvoiceDueDate      423 non-null    object \n",
      " 3   SupplierName        897 non-null    object \n",
      " 4   SupplierAddress     299 non-null    object \n",
      " 5   BuyerName           348 non-null    object \n",
      " 6   AccountNumber       690 non-null    object \n",
      " 7   BankName            548 non-null    object \n",
      " 8   SortCode            275 non-null    object \n",
      " 9   SwiftCode           177 non-null    object \n",
      " 10  IBAN                112 non-null    object \n",
      " 11  NetTotal            922 non-null    float64\n",
      " 12  VATTotal            922 non-null    float64\n",
      " 13  DeliveryCharge      922 non-null    float64\n",
      " 14  TotalAmount         921 non-null    float64\n",
      " 15  Currency            920 non-null    object \n",
      " 16  SupplierAddress1    517 non-null    object \n",
      " 17  SupplierCity        796 non-null    object \n",
      " 18  SupplierPostalCode  719 non-null    object \n",
      " 19  GSTTotal            922 non-null    float64\n",
      " 20  TaxNumber           271 non-null    object \n",
      " 21  TaxTotal            922 non-null    float64\n",
      " 22  Status              922 non-null    int64  \n",
      "dtypes: float64(6), int64(1), object(16)\n",
      "memory usage: 165.8+ KB\n"
     ]
    }
   ],
   "source": [
    "df.info()"
   ]
  },
  {
   "cell_type": "code",
   "execution_count": 17,
   "metadata": {},
   "outputs": [
    {
     "data": {
      "text/html": [
       "<div>\n",
       "<style scoped>\n",
       "    .dataframe tbody tr th:only-of-type {\n",
       "        vertical-align: middle;\n",
       "    }\n",
       "\n",
       "    .dataframe tbody tr th {\n",
       "        vertical-align: top;\n",
       "    }\n",
       "\n",
       "    .dataframe thead th {\n",
       "        text-align: right;\n",
       "    }\n",
       "</style>\n",
       "<table border=\"1\" class=\"dataframe\">\n",
       "  <thead>\n",
       "    <tr style=\"text-align: right;\">\n",
       "      <th></th>\n",
       "      <th>NetTotal</th>\n",
       "      <th>VATTotal</th>\n",
       "      <th>DeliveryCharge</th>\n",
       "      <th>TotalAmount</th>\n",
       "      <th>GSTTotal</th>\n",
       "      <th>TaxTotal</th>\n",
       "      <th>Status</th>\n",
       "    </tr>\n",
       "  </thead>\n",
       "  <tbody>\n",
       "    <tr>\n",
       "      <th>count</th>\n",
       "      <td>9.220000e+02</td>\n",
       "      <td>9.220000e+02</td>\n",
       "      <td>922.000000</td>\n",
       "      <td>9.210000e+02</td>\n",
       "      <td>922.000000</td>\n",
       "      <td>922.000000</td>\n",
       "      <td>922.000000</td>\n",
       "    </tr>\n",
       "    <tr>\n",
       "      <th>mean</th>\n",
       "      <td>1.866101e+05</td>\n",
       "      <td>3.953171e+04</td>\n",
       "      <td>342.308026</td>\n",
       "      <td>2.611535e+05</td>\n",
       "      <td>166.301811</td>\n",
       "      <td>1884.468200</td>\n",
       "      <td>2.297180</td>\n",
       "    </tr>\n",
       "    <tr>\n",
       "      <th>std</th>\n",
       "      <td>1.366281e+06</td>\n",
       "      <td>2.743276e+05</td>\n",
       "      <td>7786.824866</td>\n",
       "      <td>1.657849e+06</td>\n",
       "      <td>1229.938808</td>\n",
       "      <td>19751.526594</td>\n",
       "      <td>1.550655</td>\n",
       "    </tr>\n",
       "    <tr>\n",
       "      <th>min</th>\n",
       "      <td>0.000000e+00</td>\n",
       "      <td>0.000000e+00</td>\n",
       "      <td>0.000000</td>\n",
       "      <td>0.000000e+00</td>\n",
       "      <td>0.000000</td>\n",
       "      <td>0.000000</td>\n",
       "      <td>1.000000</td>\n",
       "    </tr>\n",
       "    <tr>\n",
       "      <th>25%</th>\n",
       "      <td>2.000000e+02</td>\n",
       "      <td>0.000000e+00</td>\n",
       "      <td>0.000000</td>\n",
       "      <td>2.942500e+02</td>\n",
       "      <td>0.000000</td>\n",
       "      <td>0.000000</td>\n",
       "      <td>2.000000</td>\n",
       "    </tr>\n",
       "    <tr>\n",
       "      <th>50%</th>\n",
       "      <td>1.250000e+03</td>\n",
       "      <td>0.000000e+00</td>\n",
       "      <td>0.000000</td>\n",
       "      <td>1.500000e+03</td>\n",
       "      <td>0.000000</td>\n",
       "      <td>0.000000</td>\n",
       "      <td>2.000000</td>\n",
       "    </tr>\n",
       "    <tr>\n",
       "      <th>75%</th>\n",
       "      <td>5.000000e+03</td>\n",
       "      <td>2.500000e+02</td>\n",
       "      <td>0.000000</td>\n",
       "      <td>8.883330e+03</td>\n",
       "      <td>0.000000</td>\n",
       "      <td>9.080000</td>\n",
       "      <td>2.000000</td>\n",
       "    </tr>\n",
       "    <tr>\n",
       "      <th>max</th>\n",
       "      <td>2.000900e+07</td>\n",
       "      <td>4.001800e+06</td>\n",
       "      <td>214365.000000</td>\n",
       "      <td>2.401080e+07</td>\n",
       "      <td>17500.000000</td>\n",
       "      <td>232600.000000</td>\n",
       "      <td>7.000000</td>\n",
       "    </tr>\n",
       "  </tbody>\n",
       "</table>\n",
       "</div>"
      ],
      "text/plain": [
       "           NetTotal      VATTotal  DeliveryCharge   TotalAmount      GSTTotal  \\\n",
       "count  9.220000e+02  9.220000e+02      922.000000  9.210000e+02    922.000000   \n",
       "mean   1.866101e+05  3.953171e+04      342.308026  2.611535e+05    166.301811   \n",
       "std    1.366281e+06  2.743276e+05     7786.824866  1.657849e+06   1229.938808   \n",
       "min    0.000000e+00  0.000000e+00        0.000000  0.000000e+00      0.000000   \n",
       "25%    2.000000e+02  0.000000e+00        0.000000  2.942500e+02      0.000000   \n",
       "50%    1.250000e+03  0.000000e+00        0.000000  1.500000e+03      0.000000   \n",
       "75%    5.000000e+03  2.500000e+02        0.000000  8.883330e+03      0.000000   \n",
       "max    2.000900e+07  4.001800e+06   214365.000000  2.401080e+07  17500.000000   \n",
       "\n",
       "            TaxTotal      Status  \n",
       "count     922.000000  922.000000  \n",
       "mean     1884.468200    2.297180  \n",
       "std     19751.526594    1.550655  \n",
       "min         0.000000    1.000000  \n",
       "25%         0.000000    2.000000  \n",
       "50%         0.000000    2.000000  \n",
       "75%         9.080000    2.000000  \n",
       "max    232600.000000    7.000000  "
      ]
     },
     "execution_count": 17,
     "metadata": {},
     "output_type": "execute_result"
    }
   ],
   "source": [
    "#More information about the float datatype \n",
    "df.describe()"
   ]
  },
  {
   "cell_type": "code",
   "execution_count": null,
   "metadata": {},
   "outputs": [],
   "source": []
  }
 ],
 "metadata": {
  "kernelspec": {
   "display_name": "Python 3",
   "language": "python",
   "name": "python3"
  },
  "language_info": {
   "codemirror_mode": {
    "name": "ipython",
    "version": 3
   },
   "file_extension": ".py",
   "mimetype": "text/x-python",
   "name": "python",
   "nbconvert_exporter": "python",
   "pygments_lexer": "ipython3",
   "version": "3.7.4"
  }
 },
 "nbformat": 4,
 "nbformat_minor": 2
}
